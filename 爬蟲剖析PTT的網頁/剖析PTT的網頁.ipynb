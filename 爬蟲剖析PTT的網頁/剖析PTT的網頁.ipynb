{
 "cells": [
  {
   "cell_type": "code",
   "execution_count": 8,
   "metadata": {},
   "outputs": [
    {
     "name": "stdout",
     "output_type": "stream",
     "text": [
      "\n",
      "[食記] 台北 奇維奇娃 限量鹹蛋黃椰汁粉圓冰酥 \n",
      "  7/26 diet83\n",
      "\n",
      "[食記] 高雄 全家xBBQ CHICKEN-人氣韓式橄欖炸雞\n",
      "  7/26 vhygdih\n",
      "\n",
      "Fw: [食記] 釜山海雲台-醬油螃蟹名家【李河榮醬蟹】 \n",
      "  7/26 abc9442\n",
      "\n",
      "[食記]台北 中山區 文青咖啡廳 時差Jetlag\n",
      "  7/26 sugarchin\n",
      "\n",
      "[食記] 台南 小餐事 早午餐/義大利麵 安平運河旁\n",
      "  7/26 oldfather\n",
      "\n",
      "[食記] 大溪地 Bora Bora 美到想哭的獨木舟早餐\n",
      "  7/26 lovemimi\n",
      "\n",
      "[食記] 台南中西區　香師傅素食水煎包成功店\n",
      "  7/26 an765433\n",
      "\n",
      "[食記] 新北 黑帥廚房 咖哩好吃99元可續飯CP值高\n",
      "  7/26 ert230\n",
      "\n",
      "[公告] Food板 板規 V3.91\n",
      " 12/16 Dilbert\n",
      "\n",
      "[公告] 發文請在標題加上地區及提供地址電話。^^\n",
      "  9/28 bluefish\n",
      "\n",
      "[公告] 文章被刪除者請洽精華區的資源回收桶\n",
      " 10/01 Dilbert\n",
      "\n",
      "[公告] 新增板規22：發文禁附延伸閱讀連結\n",
      "  6/04 Dilbert\n"
     ]
    }
   ],
   "source": [
    "import requests\n",
    "from bs4 import BeautifulSoup\n",
    "res = requests.get('https://www.ptt.cc/bbs/Food/index.html')\n",
    "soup = BeautifulSoup(res.text, \"lxml\")\n",
    "#print (soup.select('.r-ent'))\n",
    "for entry in soup.select('.r-ent'):\n",
    "    print (entry.select('.title')[0].text, entry.select('.date')[0].text, entry.select('.author')[0].text)"
   ]
  },
  {
   "cell_type": "code",
   "execution_count": null,
   "metadata": {},
   "outputs": [],
   "source": []
  }
 ],
 "metadata": {
  "kernelspec": {
   "display_name": "Python 3",
   "language": "python",
   "name": "python3"
  },
  "language_info": {
   "codemirror_mode": {
    "name": "ipython",
    "version": 3
   },
   "file_extension": ".py",
   "mimetype": "text/x-python",
   "name": "python",
   "nbconvert_exporter": "python",
   "pygments_lexer": "ipython3",
   "version": "3.6.5"
  }
 },
 "nbformat": 4,
 "nbformat_minor": 2
}
